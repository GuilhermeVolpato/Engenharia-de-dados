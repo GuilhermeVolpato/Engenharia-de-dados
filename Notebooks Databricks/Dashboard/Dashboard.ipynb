{
 "cells": [
  {
   "cell_type": "code",
   "execution_count": 0,
   "metadata": {
    "application/vnd.databricks.v1+cell": {
     "cellMetadata": {
      "byteLimit": 2048000,
      "implicitDf": true,
      "rowLimit": 10000
     },
     "inputWidgets": {},
     "nuid": "824da91d-9828-40d4-84f1-73cf98e64d53",
     "showTitle": false,
     "title": ""
    }
   },
   "outputs": [],
   "source": [
    "\n",
    "spark"
   ]
  },
  {
   "cell_type": "code",
   "execution_count": 0,
   "metadata": {
    "application/vnd.databricks.v1+cell": {
     "cellMetadata": {
      "byteLimit": 2048000,
      "rowLimit": 10000
     },
     "inputWidgets": {},
     "nuid": "2e0f77b3-81ce-49ed-8d3c-dc624b79bc30",
     "showTitle": false,
     "title": ""
    }
   },
   "outputs": [],
   "source": [
    "\n",
    "storageAccountName = \"\"\n",
    "storageAccountAccessKey = \"\"\n",
    "sasToken = \"\""
   ]
  },
  {
   "cell_type": "code",
   "execution_count": 0,
   "metadata": {
    "application/vnd.databricks.v1+cell": {
     "cellMetadata": {
      "byteLimit": 2048000,
      "rowLimit": 10000
     },
     "inputWidgets": {},
     "nuid": "e2ed5e4d-0816-4064-b4a8-4f4492d1298d",
     "showTitle": false,
     "title": ""
    }
   },
   "outputs": [],
   "source": [
    "%pip install matplotlib pandas"
   ]
  },
  {
   "cell_type": "code",
   "execution_count": 0,
   "metadata": {
    "application/vnd.databricks.v1+cell": {
     "cellMetadata": {
      "byteLimit": 2048000,
      "rowLimit": 10000
     },
     "inputWidgets": {},
     "nuid": "94c75faa-0fc0-4d20-8653-385192adf060",
     "showTitle": false,
     "title": ""
    }
   },
   "outputs": [],
   "source": [
    "\n",
    "obt = spark.read.format('delta').load(f'/mnt/{storageAccountName}/gold/obt_cafeteria')"
   ]
  },
  {
   "cell_type": "code",
   "execution_count": 0,
   "metadata": {
    "application/vnd.databricks.v1+cell": {
     "cellMetadata": {
      "byteLimit": 2048000,
      "rowLimit": 10000
     },
     "inputWidgets": {},
     "nuid": "e9aae569-144d-41cc-9ec4-312cce6ebbe4",
     "showTitle": false,
     "title": ""
    }
   },
   "outputs": [],
   "source": [
    "import matplotlib.pyplot as plt\n",
    "from pyspark.sql import SparkSession\n",
    "from pyspark.sql.functions import col, sum, year, month\n",
    "from datetime import datetime, timedelta\n",
    "\n",
    "# Inicializa uma SparkSession\n",
    "spark = SparkSession.builder.appName(\"FaturamentoItem\").getOrCreate()\n",
    "\n",
    "# Calcula a data do último mês\n",
    "data_inicio = datetime.now().replace(day=1) - timedelta(days=1)\n",
    "data_fim = datetime(data_inicio.year, data_inicio.month, 1)\n",
    "\n",
    "# Filtra os dados para o último mês\n",
    "obt_ultimo_mes = obt.filter((col(\"data_hora_pedido\") >= data_fim)\n",
    "                            & (col(\"data_hora_pedido\") <= data_inicio))\n",
    "\n",
    "# Calcula o faturamento total por item no último mês\n",
    "faturamento_por_item = obt_ultimo_mes.groupBy(\"nome_item_cardapio\") \\\n",
    "                                     .agg(sum(\"valor_item_cardapio\").alias(\"faturamento_total\")) \\\n",
    "                                     .orderBy(\"faturamento_total\", ascending=False) \\\n",
    "                                     .toPandas()\n",
    "\n",
    "# Prepara os dados para o gráfico\n",
    "nomes_itens = faturamento_por_item[\"nome_item_cardapio\"]\n",
    "faturamentos = faturamento_por_item[\"faturamento_total\"]\n",
    "\n",
    "# Cria o gráfico de barras\n",
    "plt.figure(figsize=(10, 6))\n",
    "plt.bar(nomes_itens, faturamentos, color='skyblue')\n",
    "plt.xlabel('Nome do Item')\n",
    "plt.ylabel('Faturamento Total')\n",
    "plt.title('Faturamento Total por Item - Último Mês')\n",
    "plt.xticks(rotation=45)\n",
    "plt.tight_layout()\n",
    "\n",
    "# Destaca o item com maior faturamento\n",
    "item_maior_faturamento = faturamento_por_item.iloc[0]\n",
    "plt.annotate(f'Maior Faturamento: R$ {item_maior_faturamento[\"faturamento_total\"]:.2f}',\n",
    "             xy=(item_maior_faturamento.name, item_maior_faturamento[\"faturamento_total\"]),\n",
    "             xytext=(0, 20),\n",
    "             textcoords=\"offset points\",\n",
    "             ha='center',\n",
    "             fontsize=10,\n",
    "             bbox=dict(boxstyle='round,pad=0.3', facecolor='yellow', alpha=0.5))\n",
    "\n",
    "# Exibe o gráfico\n",
    "plt.show()\n"
   ]
  },
  {
   "cell_type": "code",
   "execution_count": 0,
   "metadata": {
    "application/vnd.databricks.v1+cell": {
     "cellMetadata": {
      "byteLimit": 2048000,
      "rowLimit": 10000
     },
     "inputWidgets": {},
     "nuid": "e350a7d7-faa7-4708-8a30-d326a6d8644e",
     "showTitle": false,
     "title": ""
    }
   },
   "outputs": [],
   "source": [
    "import matplotlib.pyplot as plt\n",
    "from pyspark.sql import SparkSession\n",
    "from pyspark.sql.functions import col, sum, year, month\n",
    "from datetime import datetime, timedelta\n",
    "\n",
    "# Inicializa uma SparkSession\n",
    "spark = SparkSession.builder.appName(\"KPI_Forma_Pagamento_Ultimo_Mes\").getOrCreate()\n",
    "\n",
    "# Calcula a data do último mês\n",
    "data_inicio = datetime.now().replace(day=1) - timedelta(days=1)\n",
    "data_fim = datetime(data_inicio.year, data_inicio.month, 1)\n",
    "\n",
    "# Filtra os dados para o último mês\n",
    "obt_ultimo_mes = obt.filter((col(\"data_hora_pedido\") >= data_fim)\n",
    "                            & (col(\"data_hora_pedido\") <= data_inicio))\n",
    "\n",
    "# Calcula o faturamento total por tipo de pagamento no último mês\n",
    "faturamento_por_forma_pagamento = obt_ultimo_mes.groupBy(\"tipo_pagamento\") \\\n",
    "                                                .agg(sum(\"valor_total\").alias(\"faturamento_total\")) \\\n",
    "                                                .orderBy(\"faturamento_total\", ascending=False) \\\n",
    "                                                .toPandas()  # Converte para Pandas para facilitar a plotagem com matplotlib\n",
    "\n",
    "# Prepara os dados para o gráfico de pizza (pie chart)\n",
    "tipos_pagamento = faturamento_por_forma_pagamento[\"tipo_pagamento\"]\n",
    "faturamentos = faturamento_por_forma_pagamento[\"faturamento_total\"]\n",
    "\n",
    "# Cria o gráfico de pizza\n",
    "plt.figure(figsize=(4, 4))\n",
    "plt.pie(faturamentos, labels=tipos_pagamento, autopct='%1.1f%%', startangle=140)\n",
    "plt.title('Faturamento por Tipo de Pagamento - Último Mês')\n",
    "plt.axis('equal')  # Mantém o aspecto de um círculo\n",
    "plt.tight_layout()\n",
    "\n",
    "# Exibe o gráfico\n",
    "plt.show()\n"
   ]
  },
  {
   "cell_type": "code",
   "execution_count": 0,
   "metadata": {
    "application/vnd.databricks.v1+cell": {
     "cellMetadata": {
      "byteLimit": 2048000,
      "rowLimit": 10000
     },
     "inputWidgets": {},
     "nuid": "27bc65b7-ebf9-4af7-8dfe-f6a31944395b",
     "showTitle": false,
     "title": ""
    }
   },
   "outputs": [],
   "source": [
    "from pyspark.sql import SparkSession\n",
    "from pyspark.sql.functions import col\n",
    "\n",
    "# Inicializa uma SparkSession\n",
    "spark = SparkSession.builder.appName(\"KPI_PedidosEmAberto\").getOrCreate()\n",
    "\n",
    "# Calcula o número de pedidos em aberto\n",
    "pedidos_em_aberto = obt.filter(col(\"status_pagamento\") == False).count()\n",
    "\n",
    "# Prepara a figura para a KPI\n",
    "plt.figure(figsize=(4, 2))  # Tamanho da KPI\n",
    "plt.text(0.5, 0.5, f'Pedidos em Aberto:\\n{pedidos_em_aberto}',\n",
    "         fontsize=14, ha='center', va='center', bbox=dict(facecolor='lightcoral', alpha=0.5))\n",
    "\n",
    "#plt.title('KPI - Pedidos em Aberto', fontsize=16)\n",
    "plt.axis('off')  # Remove os eixos\n",
    "\n",
    "# Exibe a KPI\n",
    "plt.show()\n"
   ]
  },
  {
   "cell_type": "code",
   "execution_count": 0,
   "metadata": {
    "application/vnd.databricks.v1+cell": {
     "cellMetadata": {
      "byteLimit": 2048000,
      "rowLimit": 10000
     },
     "inputWidgets": {},
     "nuid": "9abf0177-50ff-4d43-baef-f6cd0ec2d4c2",
     "showTitle": false,
     "title": ""
    }
   },
   "outputs": [],
   "source": [
    "import matplotlib.pyplot as plt\n",
    "from pyspark.sql import SparkSession\n",
    "from pyspark.sql.functions import col, sum, year, month\n",
    "from datetime import datetime, timedelta\n",
    "\n",
    "# Inicializa uma SparkSession\n",
    "spark = SparkSession.builder.appName(\"KPI_SomaTaxaCartaoCredito\").getOrCreate()\n",
    "\n",
    "# Calcula a data do último mês\n",
    "data_inicio = datetime.now().replace(day=1) - timedelta(days=1)\n",
    "data_fim = datetime(data_inicio.year, data_inicio.month, 1)\n",
    "\n",
    "# Filtra os dados para o último mês e apenas para tipo_pagamento sendo \"cartão de crédito\"\n",
    "obt_ultimo_mes_cartao_credito = obt.filter((col(\"data_hora_pedido\") >= data_fim)\n",
    "                                          & (col(\"data_hora_pedido\") <= data_inicio)\n",
    "                                          & (col(\"tipo_pagamento\") == \"Cartão de Crédito\"))\n",
    "\n",
    "# Calcula a soma da taxa de pagamento para cartão de crédito no último mês\n",
    "soma_taxa_cartao_credito = obt_ultimo_mes_cartao_credito.agg(sum(\"taxa_pagamento\").alias(\"soma_taxa\")).collect()[0][\"soma_taxa\"]\n",
    "\n",
    "# Prepara a figura para a KPI\n",
    "plt.figure(figsize=(4, 2))  # Tamanho da KPI\n",
    "plt.text(0.5, 0.5, f'Taxa de recebimento\\nde Cartão de Crédito:\\nR$ {soma_taxa_cartao_credito:.2f}',\n",
    "         fontsize=14, ha='center', va='center', bbox=dict(facecolor='lightblue', alpha=0.5))\n",
    "\n",
    "#plt.title('KPI - Taxa de Recebimento para Cartão de Crédito', fontsize=16)\n",
    "plt.axis('off')  # Remove os eixos\n",
    "\n",
    "# Exibe a KPI\n",
    "plt.show()\n"
   ]
  },
  {
   "cell_type": "code",
   "execution_count": 0,
   "metadata": {
    "application/vnd.databricks.v1+cell": {
     "cellMetadata": {
      "byteLimit": 2048000,
      "rowLimit": 10000
     },
     "inputWidgets": {},
     "nuid": "e018b49d-ea6b-4d86-ad10-7c2feca8cfac",
     "showTitle": false,
     "title": ""
    }
   },
   "outputs": [],
   "source": [
    "import matplotlib.pyplot as plt\n",
    "import pandas as pd\n",
    "from pyspark.sql import SparkSession\n",
    "from pyspark.sql import functions as F\n",
    "from datetime import datetime, timedelta\n",
    "\n",
    "# Inicializa uma SparkSession\n",
    "spark = SparkSession.builder.appName(\"FaturamentoUltimosSeteDias\").getOrCreate()\n",
    "\n",
    "# Calcula a data de hoje e a data sete dias atrás\n",
    "data_atual = datetime.now().date()\n",
    "datas_para_exibir = [(data_atual.replace(day=23) - timedelta(days=i)).strftime('%Y-%m-%d') for i in range(7)]\n",
    "\n",
    "# Filtra os dados para os últimos 7 dias e extrai a data do campo data_hora_pedido\n",
    "faturamento_ultimos_sete_dias = obt.filter(\n",
    "    F.col('data_hora_pedido').cast('date').isin(datas_para_exibir)\n",
    ").groupBy(\n",
    "    F.col('data_hora_pedido').cast('date').alias('data')\n",
    ").agg(\n",
    "    F.sum('valor_total').alias('faturamento_total')\n",
    ").orderBy(\n",
    "    'data'\n",
    ")\n",
    "\n",
    "# Converte para Pandas DataFrame para plotagem com matplotlib\n",
    "faturamento_ultimos_sete_dias_pd = faturamento_ultimos_sete_dias.toPandas()\n",
    "\n",
    "# Formata as datas para dd/mm/aaaa\n",
    "faturamento_ultimos_sete_dias_pd['data'] = pd.to_datetime(faturamento_ultimos_sete_dias_pd['data'])\n",
    "faturamento_ultimos_sete_dias_pd['data'] = faturamento_ultimos_sete_dias_pd['data'].dt.strftime('%d/%m/%Y')\n",
    "\n",
    "# Ordena novamente o DataFrame para garantir a ordem correta no gráfico\n",
    "faturamento_ultimos_sete_dias_pd = faturamento_ultimos_sete_dias_pd.sort_values(by='data')\n",
    "\n",
    "# Plotar o gráfico de barras\n",
    "plt.figure(figsize=(10, 6))\n",
    "plt.bar(faturamento_ultimos_sete_dias_pd['data'], faturamento_ultimos_sete_dias_pd['faturamento_total'], color='green')\n",
    "plt.title('Faturamento Diário nos Últimos 7 Dias')\n",
    "plt.xlabel('Data')\n",
    "plt.ylabel('Faturamento Total (R$)')\n",
    "plt.xticks(rotation=45)\n",
    "plt.tight_layout()\n",
    "\n",
    "# Adicionar anotação com o total faturado nos últimos 7 dias\n",
    "total_faturado = faturamento_ultimos_sete_dias_pd['faturamento_total'].sum()\n",
    "plt.annotate(f'Total faturado: R$ {total_faturado:.2f}',\n",
    "             xy=(0.5, 0.5),\n",
    "             xycoords='axes fraction',\n",
    "             xytext=(0, 20),\n",
    "             textcoords='offset points',\n",
    "             ha='center',\n",
    "             fontsize=12,\n",
    "             bbox=dict(boxstyle='round,pad=0.3', facecolor='yellow', alpha=0.5))\n",
    "\n",
    "# Exibir o gráfico\n",
    "plt.show()\n"
   ]
  },
  {
   "cell_type": "code",
   "execution_count": 0,
   "metadata": {
    "application/vnd.databricks.v1+cell": {
     "cellMetadata": {
      "byteLimit": 2048000,
      "rowLimit": 10000
     },
     "inputWidgets": {},
     "nuid": "79e26553-7cba-495b-909e-14ea0ae5151f",
     "showTitle": false,
     "title": ""
    }
   },
   "outputs": [],
   "source": [
    "from pyspark.sql import SparkSession\n",
    "from pyspark.sql import functions as F\n",
    "\n",
    "# Inicializa uma SparkSession\n",
    "spark = SparkSession.builder.appName(\"KPIComandasComBebida\").getOrCreate()\n",
    "\n",
    "# Supondo que 'obt' é o DataFrame que contém os dados das comandas e que tem as colunas 'codigo_comanda' e 'categoria_item_pedido' Filtra as comandas que têm itens de categoria \"bebida\"\n",
    "comandas_com_bebida = obt.filter(F.col('categoria_item_cardapio') == 'Bebida')\n",
    "\n",
    "#Conta o número total de comandas\n",
    "total_comandas = obt.select('codigo_comanda').distinct().count()\n",
    "\n",
    "#Conta o número de comandas que têm pelo menos uma bebida\n",
    "total_comandas_com_bebida = comandas_com_bebida.select('codigo_comanda').distinct().count()\n",
    "\n",
    "#Calcula a porcentagem de comandas com bebida\n",
    "porcentagem_comandas_com_bebida = (total_comandas_com_bebida / total_comandas) * 100\n",
    "\n",
    "import matplotlib.pyplot as plt\n",
    "\n",
    "# Valores dos KPIs\n",
    "labels = ['Comandas com Bebida E Comida', 'Comandas Individuais']\n",
    "sizes = [porcentagem_comandas_com_bebida, 100 - porcentagem_comandas_com_bebida]\n",
    "colors = ['#ff9999','#66b3ff']\n",
    "explode = (0.1, 0)  # explode 1st slice\n",
    "\n",
    "# Criação do gráfico de pizza\n",
    "plt.pie(sizes, explode=explode, labels=labels, colors=colors, autopct='%1.1f%%',\n",
    "        shadow=True, startangle=140)\n",
    "\n",
    "# Configurações adicionais do gráfico\n",
    "plt.axis('equal')  # Equal aspect ratio ensures that pie is drawn as a circle.\n",
    "plt.title('Porcentagem de Comandas com Bebida')\n",
    "\n",
    "# Exibição do gráfico\n",
    "plt.show()\n"
   ]
  },
  {
   "cell_type": "code",
   "execution_count": 0,
   "metadata": {
    "application/vnd.databricks.v1+cell": {
     "cellMetadata": {
      "byteLimit": 2048000,
      "rowLimit": 10000
     },
     "inputWidgets": {},
     "nuid": "b3a01e29-b7ad-424a-8cba-2e0fd8b87a8a",
     "showTitle": false,
     "title": ""
    }
   },
   "outputs": [],
   "source": [
    "spark.read.format('delta').load(f'/mnt/{storageAccountName}/gold/obt_cafeteria').limit(10).display()"
   ]
  },
  {
   "cell_type": "code",
   "execution_count": 0,
   "metadata": {
    "application/vnd.databricks.v1+cell": {
     "cellMetadata": {
      "byteLimit": 2048000,
      "rowLimit": 10000
     },
     "inputWidgets": {},
     "nuid": "28d3ec43-22f4-4d95-8b7f-25a2383248ad",
     "showTitle": false,
     "title": ""
    }
   },
   "outputs": [],
   "source": [
    "obt.createOrReplaceTempView(\"obt_view\")"
   ]
  },
  {
   "cell_type": "code",
   "execution_count": 0,
   "metadata": {
    "application/vnd.databricks.v1+cell": {
     "cellMetadata": {
      "byteLimit": 2048000,
      "implicitDf": true,
      "rowLimit": 10000
     },
     "inputWidgets": {},
     "nuid": "ba71ff1f-443c-4ffe-8c8e-6c52fc041fb3",
     "showTitle": false,
     "title": ""
    }
   },
   "outputs": [],
   "source": [
    "%sql\n",
    "select count(codigo_comanda) from obt_view"
   ]
  }
 ],
 "metadata": {
  "application/vnd.databricks.v1+notebook": {
   "dashboards": [
    {
     "elements": [
      {
       "dashboardResultIndex": 0,
       "elementNUID": "27bc65b7-ebf9-4af7-8dfe-f6a31944395b",
       "elementType": "command",
       "guid": "1456ca23-9a72-4e13-ab07-8b1a8f97f992",
       "options": null,
       "position": {
        "height": 4,
        "width": 6,
        "x": 8,
        "y": 0,
        "z": null
       },
       "resultIndex": null
      },
      {
       "dashboardResultIndex": 0,
       "elementNUID": "9abf0177-50ff-4d43-baef-f6cd0ec2d4c2",
       "elementType": "command",
       "guid": "1c1da4ec-516f-41ed-a367-a399c4422ff1",
       "options": null,
       "position": {
        "height": 4,
        "width": 6,
        "x": 8,
        "y": 4,
        "z": null
       },
       "resultIndex": null
      },
      {
       "dashboardResultIndex": 0,
       "elementNUID": "e350a7d7-faa7-4708-8a30-d326a6d8644e",
       "elementType": "command",
       "guid": "1fb6e21c-53ba-4329-8fd8-3ce38c8cdb91",
       "options": {
        "autoScaleImg": false,
        "scale": 0,
        "showTitle": false,
        "titleAlign": "center"
       },
       "position": {
        "height": 8,
        "width": 8,
        "x": 0,
        "y": 0,
        "z": null
       },
       "resultIndex": null
      },
      {
       "dashboardResultIndex": 0,
       "elementNUID": "79e26553-7cba-495b-909e-14ea0ae5151f",
       "elementType": "command",
       "guid": "7b31348e-f6db-42fa-bd8e-e2137e223971",
       "options": null,
       "position": {
        "height": 8,
        "width": 10,
        "x": 14,
        "y": 0,
        "z": null
       },
       "resultIndex": null
      },
      {
       "dashboardResultIndex": 0,
       "elementNUID": "e9aae569-144d-41cc-9ec4-312cce6ebbe4",
       "elementType": "command",
       "guid": "85686f65-1e40-4d5a-9fc4-ae2451cf9172",
       "options": {
        "autoScaleImg": false,
        "scale": 0,
        "showTitle": false,
        "titleAlign": "center"
       },
       "position": {
        "height": 8,
        "width": 12,
        "x": 0,
        "y": 8,
        "z": null
       },
       "resultIndex": null
      },
      {
       "dashboardResultIndex": 0,
       "elementNUID": "e018b49d-ea6b-4d86-ad10-7c2feca8cfac",
       "elementType": "command",
       "guid": "8c2a947f-59a6-4c41-bd75-0c3d8ee80365",
       "options": null,
       "position": {
        "height": 8,
        "width": 12,
        "x": 12,
        "y": 8,
        "z": null
       },
       "resultIndex": null
      }
     ],
     "globalVars": {},
     "guid": "",
     "layoutOption": {
      "grid": true,
      "stack": true
     },
     "nuid": "3ae557e3-0dd1-4751-980d-7b8271bfd55f",
     "origId": 1336693538788072,
     "title": "Dashboard",
     "version": "DashboardViewV1",
     "width": 800
    }
   ],
   "environmentMetadata": null,
   "language": "python",
   "notebookMetadata": {
    "mostRecentlyExecutedCommandWithImplicitDF": {
     "commandId": 1336693538788071,
     "dataframes": [
      "_sqldf"
     ]
    },
    "pythonIndentUnit": 4
   },
   "notebookName": "Dashboard",
   "widgets": {}
  }
 },
 "nbformat": 4,
 "nbformat_minor": 0
}
