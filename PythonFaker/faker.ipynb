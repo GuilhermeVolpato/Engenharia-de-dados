{
 "cells": [
  {
   "cell_type": "markdown",
   "metadata": {
    "application/vnd.databricks.v1+cell": {
     "cellMetadata": {},
     "inputWidgets": {},
     "nuid": "a1b8531e-ccdc-42ac-8855-40590148f064",
     "showTitle": false,
     "title": ""
    }
   },
   "source": [
    "Instalando Faker: Simulando Dados com Python"
   ]
  },
  {
   "cell_type": "code",
   "execution_count": 0,
   "metadata": {
    "application/vnd.databricks.v1+cell": {
     "cellMetadata": {},
     "inputWidgets": {},
     "nuid": "60433ace-e62d-4617-b014-96510b91cefa",
     "showTitle": false,
     "title": ""
    }
   },
   "outputs": [],
   "source": [
    "pip install faker"
   ]
  },
  {
   "cell_type": "markdown",
   "metadata": {
    "application/vnd.databricks.v1+cell": {
     "cellMetadata": {},
     "inputWidgets": {},
     "nuid": "03a22d80-2686-419e-908e-fae8572c8e28",
     "showTitle": false,
     "title": ""
    }
   },
   "source": [
    "Instalando pyodbc: Conectando Python ao SQL Server"
   ]
  },
  {
   "cell_type": "code",
   "execution_count": 0,
   "metadata": {
    "application/vnd.databricks.v1+cell": {
     "cellMetadata": {},
     "inputWidgets": {},
     "nuid": "efda7a56-f844-461a-994a-41966ed67828",
     "showTitle": false,
     "title": ""
    }
   },
   "outputs": [],
   "source": [
    "pip install pyodbc"
   ]
  },
  {
   "cell_type": "markdown",
   "metadata": {
    "application/vnd.databricks.v1+cell": {
     "cellMetadata": {},
     "inputWidgets": {},
     "nuid": "7838040b-c91f-453e-a7f8-f2e4e80f6e8e",
     "showTitle": false,
     "title": ""
    }
   },
   "source": [
    "Instalando Pandas: Manipulação de Dados em Python"
   ]
  },
  {
   "cell_type": "code",
   "execution_count": 0,
   "metadata": {
    "application/vnd.databricks.v1+cell": {
     "cellMetadata": {},
     "inputWidgets": {},
     "nuid": "dbc085f8-1ab4-4201-ba3d-ca7bf25657f3",
     "showTitle": false,
     "title": ""
    }
   },
   "outputs": [],
   "source": [
    "pip install pandas"
   ]
  },
  {
   "cell_type": "markdown",
   "metadata": {
    "application/vnd.databricks.v1+cell": {
     "cellMetadata": {},
     "inputWidgets": {},
     "nuid": "aed7d65f-afb1-4b6b-9ffb-df7f27b1d41e",
     "showTitle": false,
     "title": ""
    }
   },
   "source": [
    "Conectando Python ao SQL Server usando pyodbc"
   ]
  },
  {
   "cell_type": "code",
   "execution_count": 0,
   "metadata": {
    "application/vnd.databricks.v1+cell": {
     "cellMetadata": {},
     "inputWidgets": {},
     "nuid": "c3b4b092-c154-4b02-830a-7af5ac744217",
     "showTitle": false,
     "title": ""
    }
   },
   "outputs": [],
   "source": [
    "import pyodbc\n",
    "\n",
    "# Definir os detalhes da conexão\n",
    "server = 'localhost,1433'\n",
    "database = 'Eng_Dados_Cafeteria'\n",
    "username = 'sa'\n",
    "password = 'Eng_Dados_Cafeteria'\n",
    "\n",
    "connection_string = f\"DRIVER={{ODBC Driver 17 for SQL Server}};SERVER={server};DATABASE={database};UID={username};PWD={password}\"\n",
    "\n",
    "try:\n",
    "     # Tentar estabelecer a conexão com o banco de dados\n",
    "    conn = pyodbc.connect(connection_string)\n",
    "    print(\"Conexão bem-sucedida!\")\n",
    "    \n",
    "     # Criar um cursor para executar comandos SQL\n",
    "    cursor = conn.cursor()\n",
    "     # Executar uma consulta para obter a versão do SQL Server\n",
    "    cursor.execute(\"SELECT @@VERSION;\")\n",
    "    # Recuperar a primeira linha do resultado\n",
    "    row = cursor.fetchone()\n",
    "    # Exibir a versão do SQL Server\n",
    "    print(f\"Versão do SQL Server: {row[0]}\")\n",
    "    \n",
    "    # Fechar a conexão\n",
    "    cursor.close()\n",
    "    conn.close()\n",
    "except pyodbc.Error as e:\n",
    "    # Capturar e exibir qualquer erro de conexão ou execução de consulta\n",
    "    print(\"Erro ao conectar-se ao banco de dados:\", e)\n"
   ]
  },
  {
   "cell_type": "markdown",
   "metadata": {
    "application/vnd.databricks.v1+cell": {
     "cellMetadata": {},
     "inputWidgets": {},
     "nuid": "d3b99bbb-e64d-42b2-8e85-2410a5e3ffe2",
     "showTitle": false,
     "title": ""
    }
   },
   "source": [
    "Geração de Dados Simulados para Sistema de Cafeteria em Python usando Faker e Pandas"
   ]
  },
  {
   "cell_type": "code",
   "execution_count": 0,
   "metadata": {
    "application/vnd.databricks.v1+cell": {
     "cellMetadata": {},
     "inputWidgets": {},
     "nuid": "c0e412b3-92be-4d0a-af0c-1dc146ab628d",
     "showTitle": false,
     "title": ""
    }
   },
   "outputs": [],
   "source": [
    "import faker\n",
    "import random\n",
    "import pandas as pd\n",
    "\n",
    "# Inicializa Faker\n",
    "fake = faker.Faker('pt_BR')\n",
    "\n",
    "# Definir intervalos para IDs\n",
    "COMANDAS_RECORDS = 20000\n",
    "NUM_RECORDS = 10000\n",
    "FUNCIONARIO_RECORDS = 1000\n",
    "MESA_RECORDS = 100\n",
    "CARDAPIO_RECORDS = 100\n",
    "\n",
    "# Geração de IDs únicos para diferentes entidades\n",
    "id_comanda_list = random.sample(range(1, NUM_RECORDS + 1), NUM_RECORDS)\n",
    "id_pagamento_list = random.sample(range(1, NUM_RECORDS + 1), NUM_RECORDS)\n",
    "id_funcionario_list = random.sample(range(1, FUNCIONARIO_RECORDS + 1), FUNCIONARIO_RECORDS)\n",
    "id_estoque_list = random.sample(range(1, NUM_RECORDS + 1), NUM_RECORDS)\n",
    "id_item_cardapio_list = random.sample(range(1, CARDAPIO_RECORDS + 1), CARDAPIO_RECORDS)\n",
    "id_mesa_list = random.sample(range(1, MESA_RECORDS + 1), MESA_RECORDS)\n",
    "id_pedido_list = random.sample(range(1, NUM_RECORDS + 1), NUM_RECORDS)\n",
    "\n",
    "# Define funções para gerar dados\n",
    "def generate_comanda(n):\n",
    "    comandas = []\n",
    "    for i in range(n):\n",
    "        comanda = {\n",
    "            \"id_comanda\": id_comanda_list[i],\n",
    "            \"id_mesa\": random.choice(id_mesa_list),\n",
    "            \"id_pagamento\": id_pagamento_list[i],\n",
    "            \"id_funcionario\": random.choice(id_funcionario_list),\n",
    "            \"valor_total\": round(random.uniform(10, 200), 2)\n",
    "        }\n",
    "        comandas.append(comanda)\n",
    "    return comandas\n",
    "\n",
    "def generate_pagamento(n):\n",
    "    pagamentos = []\n",
    "    tipos_pagamento = [\"Cartão de Crédito\", \"Cartão de Débito\", \"Dinheiro\", \"Pix\"]\n",
    "    for i in range(n):\n",
    "        pagamento = {\n",
    "            \"id_pagamento\": id_pagamento_list[i],\n",
    "            \"tipo\": random.choice(tipos_pagamento),\n",
    "            \"status\": fake.boolean(),\n",
    "            \"taxa\": round(random.uniform(0, 10), 2)\n",
    "        }\n",
    "        pagamentos.append(pagamento)\n",
    "    return pagamentos\n",
    "\n",
    "def generate_funcionarios(n):\n",
    "    funcionarios = []\n",
    "    for i in range(n):\n",
    "        funcionario = {\n",
    "            \"id_funcionario\": id_funcionario_list[i],\n",
    "            \"nome\": fake.first_name(),\n",
    "            \"sobrenome\": fake.last_name(),\n",
    "            \"telefone\": fake.phone_number(),\n",
    "            \"email\": fake.email(),\n",
    "            \"cargo\": random.choice([\"Atendente\", \"Barista\", \"Gerente\", \"Cozinheiro\"]),\n",
    "            \"data_contratacao\": fake.date_between(start_date='-3y', end_date='today')\n",
    "        }\n",
    "        funcionarios.append(funcionario)\n",
    "    return funcionarios\n",
    "\n",
    "def generate_estoque(n):\n",
    "    estoque = []\n",
    "    ingredientes = [\"Café\", \"Leite\", \"Açúcar\", \"Farinha\", \"Chocolate\", \"Canela\", \"Mel\"]\n",
    "    for i in range(n):\n",
    "        item = {\n",
    "            \"id_estoque\": id_estoque_list[i],\n",
    "            \"ingrediente\": random.choice(ingredientes),\n",
    "            \"quantidade\": round(random.uniform(1, 100), 2),\n",
    "            \"unidade\": random.choice([\"kg\", \"g\", \"L\", \"ml\"])\n",
    "        }\n",
    "        estoque.append(item)\n",
    "    return estoque\n",
    "\n",
    "def generate_cardapio(n):\n",
    "    cardapio = []\n",
    "    items = [\n",
    "        (\"Café Expresso\", \"Café puro e forte\", \"Bebida\"),\n",
    "        (\"Café com Leite\", \"Café com leite espumado\", \"Bebida\"),\n",
    "        (\"Capuccino\", \"Café com chocolate e canela\", \"Bebida\"),\n",
    "        (\"Pão de Queijo\", \"Pão de queijo tradicional\", \"Comida\"),\n",
    "        (\"Croissant\", \"Croissant folhado e amanteigado\", \"Comida\"),\n",
    "        (\"Bolo de Cenoura\", \"Bolo com cobertura de chocolate\", \"Comida\")\n",
    "    ]\n",
    "    for i in range(n):\n",
    "        item = {\n",
    "            \"id_item_cardapio\": id_item_cardapio_list[i % len(id_item_cardapio_list)],\n",
    "            \"nome_item\": items[i % len(items)][0],\n",
    "            \"valor\": round(random.uniform(5, 30), 2),\n",
    "            \"descricao\": items[i % len(items)][1],\n",
    "            \"categoria\": items[i % len(items)][2],\n",
    "            \"disponibilidade\": fake.boolean()\n",
    "        }\n",
    "        cardapio.append(item)\n",
    "    return cardapio\n",
    "\n",
    "def generate_mesas(n):\n",
    "    mesas = []\n",
    "    for i in range(n):\n",
    "        mesa = {\n",
    "            \"id_mesa\": id_mesa_list[i],\n",
    "            \"qtd_lugares\": random.randint(2, 8),\n",
    "            \"local\": fake.street_name(),\n",
    "            \"status\": fake.boolean()\n",
    "        }\n",
    "        mesas.append(mesa)\n",
    "    return mesas\n",
    "\n",
    "def generate_pedido(n):\n",
    "    pedidos = []\n",
    "    for i in range(n):\n",
    "        pedido = {\n",
    "            \"id_pedido\": id_pedido_list[i],\n",
    "            \"id_comanda\": random.choice(id_comanda_list),\n",
    "            \"id_cardapio\": random.choice(id_item_cardapio_list),\n",
    "            \"status\": fake.boolean(),\n",
    "            \"data_hora_pedido\": fake.date_time_between(start_date='-3y', end_date='now'),\n",
    "            \"quantidade\": random.randint(1, 10)\n",
    "        }\n",
    "        pedidos.append(pedido)\n",
    "    return pedidos\n",
    "\n",
    "def generate_ingredientes(n):\n",
    "    ingredientes = []\n",
    "    for i in range(n):\n",
    "        ingrediente = {\n",
    "            \"id_item_cardapio\": random.choice(id_item_cardapio_list),\n",
    "            \"id_estoque\": random.choice(id_estoque_list),\n",
    "            \"quantidade\": random.randint(1, 20),\n",
    "            \"unidade\": random.choice([\"kg\", \"g\", \"L\", \"ml\"])\n",
    "        }\n",
    "        ingredientes.append(ingrediente)\n",
    "    return ingredientes\n",
    "\n",
    "# Gerar dados para todas as entidades\n",
    "comandas = generate_comanda(NUM_RECORDS)\n",
    "pagamentos = generate_pagamento(NUM_RECORDS)\n",
    "funcionarios = generate_funcionarios(FUNCIONARIO_RECORDS)\n",
    "estoque = generate_estoque(NUM_RECORDS)\n",
    "cardapio = generate_cardapio(CARDAPIO_RECORDS)\n",
    "mesas = generate_mesas(MESA_RECORDS)\n",
    "pedidos = generate_pedido(NUM_RECORDS)\n",
    "ingredientes = generate_ingredientes(NUM_RECORDS)\n",
    "\n",
    "# Converter listas de dicionários em DataFrames usando Pandas\n",
    "df_comandas = pd.DataFrame(comandas)\n",
    "df_pagamentos = pd.DataFrame(pagamentos)\n",
    "df_funcionarios = pd.DataFrame(funcionarios)\n",
    "df_estoque = pd.DataFrame(estoque)\n",
    "df_cardapio = pd.DataFrame(cardapio)\n",
    "df_mesas = pd.DataFrame(mesas)\n",
    "df_pedidos = pd.DataFrame(pedidos)\n",
    "df_ingredientes = pd.DataFrame(ingredientes)\n"
   ]
  },
  {
   "cell_type": "markdown",
   "metadata": {
    "application/vnd.databricks.v1+cell": {
     "cellMetadata": {},
     "inputWidgets": {},
     "nuid": "54220cff-d0da-493b-94ab-1732126129d7",
     "showTitle": false,
     "title": ""
    }
   },
   "source": [
    " Função para Inserir Dados em Tabelas SQL usando Python e pyodbc"
   ]
  },
  {
   "cell_type": "code",
   "execution_count": 0,
   "metadata": {
    "application/vnd.databricks.v1+cell": {
     "cellMetadata": {},
     "inputWidgets": {},
     "nuid": "d0bec981-ad7e-4490-80f1-75d3fa08aa23",
     "showTitle": false,
     "title": ""
    }
   },
   "outputs": [],
   "source": [
    "def insert_data(conn, table_name, data):\n",
    "    # Inicializa um cursor para executar comandos SQL\n",
    "    cursor = conn.cursor()\n",
    "    for record in data:\n",
    "        # Prepara os placeholders para os valores a serem inseridos\n",
    "        placeholders = ', '.join(['?' for _ in record]) \n",
    "        # Obtém os nomes das colunas para a cláusula INSERT\n",
    "        columns = ', '.join(record.keys())\n",
    "        # Monta a instrução SQL INSERT\n",
    "        sql = f\"INSERT INTO {table_name} ({columns}) VALUES ({placeholders})\"\n",
    "        # Executa a instrução SQL com os valores do registro atual\n",
    "        cursor.execute(sql, tuple(record.values()))\n",
    "    # Confirma as alterações feitas no banco de dados\n",
    "    conn.commit()\n",
    "    # Fecha o cursor para liberar os recursos\n",
    "    cursor.close()\n",
    "    # Exibe uma mensagem indicando o nome da tabela onde os dados foram inseridos\n",
    "    print(\"inserido na tabela\", table_name)"
   ]
  },
  {
   "cell_type": "markdown",
   "metadata": {
    "application/vnd.databricks.v1+cell": {
     "cellMetadata": {},
     "inputWidgets": {},
     "nuid": "6d2f40aa-e9a8-44cd-8758-42b2edb52b0a",
     "showTitle": false,
     "title": ""
    }
   },
   "source": [
    "Inserção de Dados em Múltiplas Tabelas SQL Server usando Python e pyodbc"
   ]
  },
  {
   "cell_type": "code",
   "execution_count": 0,
   "metadata": {
    "application/vnd.databricks.v1+cell": {
     "cellMetadata": {},
     "inputWidgets": {},
     "nuid": "04fcb51e-822f-4bcd-b277-ef3de93788a8",
     "showTitle": false,
     "title": ""
    }
   },
   "outputs": [],
   "source": [
    "# String de conexão formatada\n",
    "connection_string = f\"DRIVER={{ODBC Driver 17 for SQL Server}};SERVER={server};DATABASE={database};UID={username};PWD={password}\"\n",
    "\n",
    "try:\n",
    "    conn = pyodbc.connect(connection_string)\n",
    "    print(\"Conexão bem-sucedida!\")\n",
    "# String de conexão formatada\n",
    "    insert_data(conn, 'mesas', mesas)\n",
    "    insert_data(conn, 'funcionarios ', funcionarios)\n",
    "    insert_data(conn, 'cardapio', cardapio)\n",
    "    insert_data(conn, 'pagamento', pagamentos)\n",
    "    insert_data(conn, 'estoque', estoque)\n",
    "    insert_data(conn, 'ingredientes', ingredientes)\n",
    "    insert_data(conn, 'comanda', comandas)\n",
    "    insert_data(conn, 'pedido', pedidos)\n",
    "    # Exibir mensagem de sucesso\n",
    "    print(\"Dados inseridos com sucesso!\")\n",
    "\n",
    "    # Capturar e exibir erros de conexão\n",
    "    conn.close()\n",
    "except pyodbc.Error as e:\n",
    "    print(\"Erro ao conectar-se ao banco de dados:\", e)"
   ]
  }
 ],
 "metadata": {
  "application/vnd.databricks.v1+notebook": {
   "dashboards": [],
   "environmentMetadata": null,
   "language": "python",
   "notebookMetadata": {
    "pythonIndentUnit": 4
   },
   "notebookName": "faker",
   "widgets": {}
  },
  "kernelspec": {
   "display_name": "Python 3",
   "language": "python",
   "name": "python3"
  },
  "language_info": {
   "codemirror_mode": {
    "name": "ipython",
    "version": 3
   },
   "file_extension": ".py",
   "mimetype": "text/x-python",
   "name": "python",
   "nbconvert_exporter": "python",
   "pygments_lexer": "ipython3",
   "version": "3.11.0"
  }
 },
 "nbformat": 4,
 "nbformat_minor": 0
}
